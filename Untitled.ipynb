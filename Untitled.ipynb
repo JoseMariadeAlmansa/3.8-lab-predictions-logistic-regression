{
 "cells": [
  {
   "cell_type": "markdown",
   "id": "2b29425d",
   "metadata": {},
   "source": [
    "![logo_ironhack_blue 7](https://user-images.githubusercontent.com/23629340/40541063-a07a0a8a-601a-11e8-91b5-2f13e4e6b441.png)\n",
    "\n",
    "# Lab | Making predictions with logistic regression\n",
    "\n",
    "In this lab, you will be using the [Sakila](https://dev.mysql.com/doc/sakila/en/) database of movie rentals.\n",
    "\n",
    "In order to optimize our inventory, we would like to know which films will be rented next month and we are asked to create a model to predict it.\n",
    "\n"
   ]
  },
  {
   "cell_type": "markdown",
   "id": "c7831abf",
   "metadata": {},
   "source": [
    "\n",
    "1. Create a query or queries to extract the information you think may be relevant for building the prediction model. It should include some film features and some rental features. Use the data from 2005."
   ]
  },
  {
   "cell_type": "code",
   "execution_count": 17,
   "id": "ffa0dfba",
   "metadata": {},
   "outputs": [
    {
     "name": "stdout",
     "output_type": "stream",
     "text": [
      "········\n"
     ]
    }
   ],
   "source": [
    "# prep: import modules and get pwd\n",
    "import pymysql\n",
    "from sqlalchemy import create_engine\n",
    "import pandas as pd\n",
    "import getpass  # To get the password without showing the input\n",
    "import numpy as np\n",
    "password = getpass.getpass()"
   ]
  },
  {
   "cell_type": "code",
   "execution_count": 29,
   "id": "d64372df",
   "metadata": {},
   "outputs": [],
   "source": [
    "# get the data\n",
    "connection_string = 'mysql+pymysql://root:' + password + '@localhost/sakila'\n",
    "engine = create_engine(connection_string)"
   ]
  },
  {
   "cell_type": "code",
   "execution_count": 37,
   "id": "eb1ee63b",
   "metadata": {},
   "outputs": [],
   "source": [
    "query_features = '''select f.film_id, f.rental_rate, f.special_features, f.rating, fc.category_id, fa.actor_id\n",
    "FROM sakila.film as f\n",
    "LEFT JOIN sakila.film_actor fa USING (film_id)\n",
    "LEFT JOIN sakila.film_category fc USING (film_id)\n",
    "GROUP BY f.film_id;'''\n",
    "features = pd.read_sql_query(query_features, engine)"
   ]
  },
  {
   "cell_type": "code",
   "execution_count": 127,
   "id": "940214c9",
   "metadata": {},
   "outputs": [],
   "source": [
    "query_target = '''select f.film_id, rental_date\n",
    "FROM sakila.rental \n",
    "LEFT JOIN sakila.inventory i USING (inventory_id)\n",
    "LEFT JOIN sakila.film f USING (film_id)\n",
    "WHERE rental_date BETWEEN '2005-05-01 00:00:00' AND '2005-05-31 23:59:59'\n",
    "GROUP BY f.film_id;'''\n",
    "target = pd.read_sql_query(query_target, engine)"
   ]
  },
  {
   "cell_type": "markdown",
   "id": "2a371031",
   "metadata": {},
   "source": [
    "WE WANT TO USE TITLE, CATEGORY NAME AND ACTOR NAME INSTEAD OF FILM_ID CATEGORY_ID AND ACTOR_ID\n",
    "\n",
    "LATER WE WILL ENCODE THOSE VARIABLES"
   ]
  },
  {
   "cell_type": "code",
   "execution_count": 39,
   "id": "1aceda66",
   "metadata": {},
   "outputs": [
    {
     "data": {
      "text/html": [
       "<div>\n",
       "<style scoped>\n",
       "    .dataframe tbody tr th:only-of-type {\n",
       "        vertical-align: middle;\n",
       "    }\n",
       "\n",
       "    .dataframe tbody tr th {\n",
       "        vertical-align: top;\n",
       "    }\n",
       "\n",
       "    .dataframe thead th {\n",
       "        text-align: right;\n",
       "    }\n",
       "</style>\n",
       "<table border=\"1\" class=\"dataframe\">\n",
       "  <thead>\n",
       "    <tr style=\"text-align: right;\">\n",
       "      <th></th>\n",
       "      <th>film_id</th>\n",
       "      <th>rental_rate</th>\n",
       "      <th>special_features</th>\n",
       "      <th>rating</th>\n",
       "      <th>category_id</th>\n",
       "      <th>actor_id</th>\n",
       "    </tr>\n",
       "  </thead>\n",
       "  <tbody>\n",
       "    <tr>\n",
       "      <th>0</th>\n",
       "      <td>1</td>\n",
       "      <td>0.99</td>\n",
       "      <td>Deleted Scenes,Behind the Scenes</td>\n",
       "      <td>PG</td>\n",
       "      <td>6</td>\n",
       "      <td>1.0</td>\n",
       "    </tr>\n",
       "    <tr>\n",
       "      <th>1</th>\n",
       "      <td>2</td>\n",
       "      <td>4.99</td>\n",
       "      <td>Trailers,Deleted Scenes</td>\n",
       "      <td>G</td>\n",
       "      <td>11</td>\n",
       "      <td>19.0</td>\n",
       "    </tr>\n",
       "    <tr>\n",
       "      <th>2</th>\n",
       "      <td>3</td>\n",
       "      <td>2.99</td>\n",
       "      <td>Trailers,Deleted Scenes</td>\n",
       "      <td>NC-17</td>\n",
       "      <td>6</td>\n",
       "      <td>2.0</td>\n",
       "    </tr>\n",
       "    <tr>\n",
       "      <th>3</th>\n",
       "      <td>4</td>\n",
       "      <td>2.99</td>\n",
       "      <td>Commentaries,Behind the Scenes</td>\n",
       "      <td>G</td>\n",
       "      <td>11</td>\n",
       "      <td>41.0</td>\n",
       "    </tr>\n",
       "    <tr>\n",
       "      <th>4</th>\n",
       "      <td>5</td>\n",
       "      <td>2.99</td>\n",
       "      <td>Deleted Scenes</td>\n",
       "      <td>G</td>\n",
       "      <td>8</td>\n",
       "      <td>51.0</td>\n",
       "    </tr>\n",
       "    <tr>\n",
       "      <th>...</th>\n",
       "      <td>...</td>\n",
       "      <td>...</td>\n",
       "      <td>...</td>\n",
       "      <td>...</td>\n",
       "      <td>...</td>\n",
       "      <td>...</td>\n",
       "    </tr>\n",
       "    <tr>\n",
       "      <th>995</th>\n",
       "      <td>996</td>\n",
       "      <td>0.99</td>\n",
       "      <td>Trailers,Behind the Scenes</td>\n",
       "      <td>G</td>\n",
       "      <td>6</td>\n",
       "      <td>3.0</td>\n",
       "    </tr>\n",
       "    <tr>\n",
       "      <th>996</th>\n",
       "      <td>997</td>\n",
       "      <td>0.99</td>\n",
       "      <td>Trailers,Behind the Scenes</td>\n",
       "      <td>NC-17</td>\n",
       "      <td>12</td>\n",
       "      <td>23.0</td>\n",
       "    </tr>\n",
       "    <tr>\n",
       "      <th>997</th>\n",
       "      <td>998</td>\n",
       "      <td>0.99</td>\n",
       "      <td>Deleted Scenes</td>\n",
       "      <td>NC-17</td>\n",
       "      <td>11</td>\n",
       "      <td>13.0</td>\n",
       "    </tr>\n",
       "    <tr>\n",
       "      <th>998</th>\n",
       "      <td>999</td>\n",
       "      <td>2.99</td>\n",
       "      <td>Trailers,Deleted Scenes</td>\n",
       "      <td>R</td>\n",
       "      <td>3</td>\n",
       "      <td>52.0</td>\n",
       "    </tr>\n",
       "    <tr>\n",
       "      <th>999</th>\n",
       "      <td>1000</td>\n",
       "      <td>4.99</td>\n",
       "      <td>Trailers,Commentaries,Behind the Scenes</td>\n",
       "      <td>NC-17</td>\n",
       "      <td>5</td>\n",
       "      <td>155.0</td>\n",
       "    </tr>\n",
       "  </tbody>\n",
       "</table>\n",
       "<p>1000 rows × 6 columns</p>\n",
       "</div>"
      ],
      "text/plain": [
       "     film_id  rental_rate                         special_features rating  \\\n",
       "0          1         0.99         Deleted Scenes,Behind the Scenes     PG   \n",
       "1          2         4.99                  Trailers,Deleted Scenes      G   \n",
       "2          3         2.99                  Trailers,Deleted Scenes  NC-17   \n",
       "3          4         2.99           Commentaries,Behind the Scenes      G   \n",
       "4          5         2.99                           Deleted Scenes      G   \n",
       "..       ...          ...                                      ...    ...   \n",
       "995      996         0.99               Trailers,Behind the Scenes      G   \n",
       "996      997         0.99               Trailers,Behind the Scenes  NC-17   \n",
       "997      998         0.99                           Deleted Scenes  NC-17   \n",
       "998      999         2.99                  Trailers,Deleted Scenes      R   \n",
       "999     1000         4.99  Trailers,Commentaries,Behind the Scenes  NC-17   \n",
       "\n",
       "     category_id  actor_id  \n",
       "0              6       1.0  \n",
       "1             11      19.0  \n",
       "2              6       2.0  \n",
       "3             11      41.0  \n",
       "4              8      51.0  \n",
       "..           ...       ...  \n",
       "995            6       3.0  \n",
       "996           12      23.0  \n",
       "997           11      13.0  \n",
       "998            3      52.0  \n",
       "999            5     155.0  \n",
       "\n",
       "[1000 rows x 6 columns]"
      ]
     },
     "execution_count": 39,
     "metadata": {},
     "output_type": "execute_result"
    }
   ],
   "source": [
    "features"
   ]
  },
  {
   "cell_type": "code",
   "execution_count": 40,
   "id": "45d5ddf7",
   "metadata": {},
   "outputs": [
    {
     "data": {
      "text/html": [
       "<div>\n",
       "<style scoped>\n",
       "    .dataframe tbody tr th:only-of-type {\n",
       "        vertical-align: middle;\n",
       "    }\n",
       "\n",
       "    .dataframe tbody tr th {\n",
       "        vertical-align: top;\n",
       "    }\n",
       "\n",
       "    .dataframe thead th {\n",
       "        text-align: right;\n",
       "    }\n",
       "</style>\n",
       "<table border=\"1\" class=\"dataframe\">\n",
       "  <thead>\n",
       "    <tr style=\"text-align: right;\">\n",
       "      <th></th>\n",
       "      <th>film_id</th>\n",
       "      <th>rental_date</th>\n",
       "    </tr>\n",
       "  </thead>\n",
       "  <tbody>\n",
       "    <tr>\n",
       "      <th>0</th>\n",
       "      <td>80</td>\n",
       "      <td>2005-05-24 22:53:30</td>\n",
       "    </tr>\n",
       "    <tr>\n",
       "      <th>1</th>\n",
       "      <td>333</td>\n",
       "      <td>2005-05-24 22:54:33</td>\n",
       "    </tr>\n",
       "    <tr>\n",
       "      <th>2</th>\n",
       "      <td>373</td>\n",
       "      <td>2005-05-24 23:03:39</td>\n",
       "    </tr>\n",
       "    <tr>\n",
       "      <th>3</th>\n",
       "      <td>535</td>\n",
       "      <td>2005-05-24 23:04:41</td>\n",
       "    </tr>\n",
       "    <tr>\n",
       "      <th>4</th>\n",
       "      <td>450</td>\n",
       "      <td>2005-05-24 23:05:21</td>\n",
       "    </tr>\n",
       "    <tr>\n",
       "      <th>...</th>\n",
       "      <td>...</td>\n",
       "      <td>...</td>\n",
       "    </tr>\n",
       "    <tr>\n",
       "      <th>681</th>\n",
       "      <td>864</td>\n",
       "      <td>2005-05-31 19:19:36</td>\n",
       "    </tr>\n",
       "    <tr>\n",
       "      <th>682</th>\n",
       "      <td>859</td>\n",
       "      <td>2005-05-31 19:30:27</td>\n",
       "    </tr>\n",
       "    <tr>\n",
       "      <th>683</th>\n",
       "      <td>689</td>\n",
       "      <td>2005-05-31 20:34:45</td>\n",
       "    </tr>\n",
       "    <tr>\n",
       "      <th>684</th>\n",
       "      <td>47</td>\n",
       "      <td>2005-05-31 21:32:17</td>\n",
       "    </tr>\n",
       "    <tr>\n",
       "      <th>685</th>\n",
       "      <td>599</td>\n",
       "      <td>2005-05-31 21:42:09</td>\n",
       "    </tr>\n",
       "  </tbody>\n",
       "</table>\n",
       "<p>686 rows × 2 columns</p>\n",
       "</div>"
      ],
      "text/plain": [
       "     film_id         rental_date\n",
       "0         80 2005-05-24 22:53:30\n",
       "1        333 2005-05-24 22:54:33\n",
       "2        373 2005-05-24 23:03:39\n",
       "3        535 2005-05-24 23:04:41\n",
       "4        450 2005-05-24 23:05:21\n",
       "..       ...                 ...\n",
       "681      864 2005-05-31 19:19:36\n",
       "682      859 2005-05-31 19:30:27\n",
       "683      689 2005-05-31 20:34:45\n",
       "684       47 2005-05-31 21:32:17\n",
       "685      599 2005-05-31 21:42:09\n",
       "\n",
       "[686 rows x 2 columns]"
      ]
     },
     "execution_count": 40,
     "metadata": {},
     "output_type": "execute_result"
    }
   ],
   "source": [
    "target"
   ]
  },
  {
   "cell_type": "code",
   "execution_count": 41,
   "id": "0f17b843",
   "metadata": {},
   "outputs": [],
   "source": [
    "target['rented_in_may']=1"
   ]
  },
  {
   "cell_type": "code",
   "execution_count": 133,
   "id": "a2c395af",
   "metadata": {},
   "outputs": [
    {
     "data": {
      "text/html": [
       "<div>\n",
       "<style scoped>\n",
       "    .dataframe tbody tr th:only-of-type {\n",
       "        vertical-align: middle;\n",
       "    }\n",
       "\n",
       "    .dataframe tbody tr th {\n",
       "        vertical-align: top;\n",
       "    }\n",
       "\n",
       "    .dataframe thead th {\n",
       "        text-align: right;\n",
       "    }\n",
       "</style>\n",
       "<table border=\"1\" class=\"dataframe\">\n",
       "  <thead>\n",
       "    <tr style=\"text-align: right;\">\n",
       "      <th></th>\n",
       "      <th>film_id</th>\n",
       "      <th>rental_date</th>\n",
       "      <th>rented_in_may</th>\n",
       "    </tr>\n",
       "  </thead>\n",
       "  <tbody>\n",
       "    <tr>\n",
       "      <th>0</th>\n",
       "      <td>80</td>\n",
       "      <td>2005-05-24 22:53:30</td>\n",
       "      <td>False</td>\n",
       "    </tr>\n",
       "    <tr>\n",
       "      <th>1</th>\n",
       "      <td>333</td>\n",
       "      <td>2005-05-24 22:54:33</td>\n",
       "      <td>False</td>\n",
       "    </tr>\n",
       "    <tr>\n",
       "      <th>2</th>\n",
       "      <td>373</td>\n",
       "      <td>2005-05-24 23:03:39</td>\n",
       "      <td>False</td>\n",
       "    </tr>\n",
       "    <tr>\n",
       "      <th>3</th>\n",
       "      <td>535</td>\n",
       "      <td>2005-05-24 23:04:41</td>\n",
       "      <td>False</td>\n",
       "    </tr>\n",
       "    <tr>\n",
       "      <th>4</th>\n",
       "      <td>450</td>\n",
       "      <td>2005-05-24 23:05:21</td>\n",
       "      <td>False</td>\n",
       "    </tr>\n",
       "    <tr>\n",
       "      <th>...</th>\n",
       "      <td>...</td>\n",
       "      <td>...</td>\n",
       "      <td>...</td>\n",
       "    </tr>\n",
       "    <tr>\n",
       "      <th>681</th>\n",
       "      <td>864</td>\n",
       "      <td>2005-05-31 19:19:36</td>\n",
       "      <td>False</td>\n",
       "    </tr>\n",
       "    <tr>\n",
       "      <th>682</th>\n",
       "      <td>859</td>\n",
       "      <td>2005-05-31 19:30:27</td>\n",
       "      <td>False</td>\n",
       "    </tr>\n",
       "    <tr>\n",
       "      <th>683</th>\n",
       "      <td>689</td>\n",
       "      <td>2005-05-31 20:34:45</td>\n",
       "      <td>False</td>\n",
       "    </tr>\n",
       "    <tr>\n",
       "      <th>684</th>\n",
       "      <td>47</td>\n",
       "      <td>2005-05-31 21:32:17</td>\n",
       "      <td>False</td>\n",
       "    </tr>\n",
       "    <tr>\n",
       "      <th>685</th>\n",
       "      <td>599</td>\n",
       "      <td>2005-05-31 21:42:09</td>\n",
       "      <td>False</td>\n",
       "    </tr>\n",
       "  </tbody>\n",
       "</table>\n",
       "<p>686 rows × 3 columns</p>\n",
       "</div>"
      ],
      "text/plain": [
       "     film_id         rental_date  rented_in_may\n",
       "0         80 2005-05-24 22:53:30          False\n",
       "1        333 2005-05-24 22:54:33          False\n",
       "2        373 2005-05-24 23:03:39          False\n",
       "3        535 2005-05-24 23:04:41          False\n",
       "4        450 2005-05-24 23:05:21          False\n",
       "..       ...                 ...            ...\n",
       "681      864 2005-05-31 19:19:36          False\n",
       "682      859 2005-05-31 19:30:27          False\n",
       "683      689 2005-05-31 20:34:45          False\n",
       "684       47 2005-05-31 21:32:17          False\n",
       "685      599 2005-05-31 21:42:09          False\n",
       "\n",
       "[686 rows x 3 columns]"
      ]
     },
     "execution_count": 133,
     "metadata": {},
     "output_type": "execute_result"
    }
   ],
   "source": [
    "target"
   ]
  },
  {
   "cell_type": "markdown",
   "id": "3e0a5400",
   "metadata": {},
   "source": [
    "WE ARE TRYING TO MAKE THE TARGET HAVE THE SAME FILM_ID'S (ROWS) AS THE FEATURES\n",
    "WE PUT THE EACH FILM_ID COLUMN IN A LIST, WE COMPARE THEM, AND THEN WE EXTRACT THE DIFFERENT VALUES IN A NEW LIST (314 FILM_IDS)\n",
    "LATER WE WANT BY USING A QUERY TO ADD THOSE VALUES TO THE TARGET DATAFRAME"
   ]
  },
  {
   "cell_type": "code",
   "execution_count": 109,
   "id": "6d357a74",
   "metadata": {},
   "outputs": [],
   "source": [
    "'''film_id_features=features['film_id']\n",
    "film_id_target=target['film_id']\n",
    "film_id_target\n",
    "film_id_features\n",
    "missing_film_id=[]\n",
    "i=0\n",
    "j=0\n",
    "def compareList(l1,l2):\n",
    "    for i in l1:\n",
    "        for j in l2:\n",
    "            if(i==j):\n",
    "                pass\n",
    "            else:\n",
    "                missing_film_id.append(i)\n",
    "    return missing_film_id\n",
    "compareList(film_id_features,film_id_target)'''"
   ]
  },
  {
   "cell_type": "code",
   "execution_count": 111,
   "id": "1bee7fc1",
   "metadata": {},
   "outputs": [
    {
     "data": {
      "text/plain": [
       "685314"
      ]
     },
     "execution_count": 111,
     "metadata": {},
     "output_type": "execute_result"
    }
   ],
   "source": [
    "len(missing_film_id)"
   ]
  },
  {
   "cell_type": "markdown",
   "id": "64ee46a1",
   "metadata": {},
   "source": [
    "2. Create a query to get the list of films and a boolean indicating if it was rented last month (May 2005). This would be our target variable.\n"
   ]
  },
  {
   "cell_type": "code",
   "execution_count": 130,
   "id": "d1b63eb8",
   "metadata": {},
   "outputs": [],
   "source": [
    "target['rented_in_may']=np.where(target[\"rented_in_may\"] == \"1\",True,False)"
   ]
  },
  {
   "cell_type": "code",
   "execution_count": 131,
   "id": "c9c2c86f",
   "metadata": {},
   "outputs": [
    {
     "data": {
      "text/html": [
       "<div>\n",
       "<style scoped>\n",
       "    .dataframe tbody tr th:only-of-type {\n",
       "        vertical-align: middle;\n",
       "    }\n",
       "\n",
       "    .dataframe tbody tr th {\n",
       "        vertical-align: top;\n",
       "    }\n",
       "\n",
       "    .dataframe thead th {\n",
       "        text-align: right;\n",
       "    }\n",
       "</style>\n",
       "<table border=\"1\" class=\"dataframe\">\n",
       "  <thead>\n",
       "    <tr style=\"text-align: right;\">\n",
       "      <th></th>\n",
       "      <th>film_id</th>\n",
       "      <th>rental_date</th>\n",
       "      <th>rented_in_may</th>\n",
       "    </tr>\n",
       "  </thead>\n",
       "  <tbody>\n",
       "    <tr>\n",
       "      <th>0</th>\n",
       "      <td>80</td>\n",
       "      <td>2005-05-24 22:53:30</td>\n",
       "      <td>False</td>\n",
       "    </tr>\n",
       "    <tr>\n",
       "      <th>1</th>\n",
       "      <td>333</td>\n",
       "      <td>2005-05-24 22:54:33</td>\n",
       "      <td>False</td>\n",
       "    </tr>\n",
       "    <tr>\n",
       "      <th>2</th>\n",
       "      <td>373</td>\n",
       "      <td>2005-05-24 23:03:39</td>\n",
       "      <td>False</td>\n",
       "    </tr>\n",
       "    <tr>\n",
       "      <th>3</th>\n",
       "      <td>535</td>\n",
       "      <td>2005-05-24 23:04:41</td>\n",
       "      <td>False</td>\n",
       "    </tr>\n",
       "    <tr>\n",
       "      <th>4</th>\n",
       "      <td>450</td>\n",
       "      <td>2005-05-24 23:05:21</td>\n",
       "      <td>False</td>\n",
       "    </tr>\n",
       "  </tbody>\n",
       "</table>\n",
       "</div>"
      ],
      "text/plain": [
       "   film_id         rental_date  rented_in_may\n",
       "0       80 2005-05-24 22:53:30          False\n",
       "1      333 2005-05-24 22:54:33          False\n",
       "2      373 2005-05-24 23:03:39          False\n",
       "3      535 2005-05-24 23:04:41          False\n",
       "4      450 2005-05-24 23:05:21          False"
      ]
     },
     "execution_count": 131,
     "metadata": {},
     "output_type": "execute_result"
    }
   ],
   "source": [
    "target.head()"
   ]
  },
  {
   "cell_type": "markdown",
   "id": "27423811",
   "metadata": {},
   "source": [
    "3. Read the data into a Pandas dataframe.\n"
   ]
  },
  {
   "cell_type": "code",
   "execution_count": null,
   "id": "781798b1",
   "metadata": {},
   "outputs": [],
   "source": []
  },
  {
   "cell_type": "markdown",
   "id": "2be484fb",
   "metadata": {},
   "source": [
    "4. Analyze extracted features and transform them. You may need to encode some categorical variables, or scale numerical variables.\n"
   ]
  },
  {
   "cell_type": "code",
   "execution_count": null,
   "id": "3d9bae9f",
   "metadata": {},
   "outputs": [],
   "source": []
  },
  {
   "cell_type": "markdown",
   "id": "b346ff5c",
   "metadata": {},
   "source": [
    "5. Create a logistic regression model to predict this variable from the cleaned data.\n"
   ]
  },
  {
   "cell_type": "code",
   "execution_count": null,
   "id": "b60a64a7",
   "metadata": {},
   "outputs": [],
   "source": []
  },
  {
   "cell_type": "markdown",
   "id": "295627cf",
   "metadata": {},
   "source": [
    "6. Evaluate the results."
   ]
  },
  {
   "cell_type": "code",
   "execution_count": null,
   "id": "78a44ebd",
   "metadata": {},
   "outputs": [],
   "source": []
  },
  {
   "cell_type": "code",
   "execution_count": null,
   "id": "13d993a1",
   "metadata": {},
   "outputs": [],
   "source": []
  }
 ],
 "metadata": {
  "kernelspec": {
   "display_name": "Python 3 (ipykernel)",
   "language": "python",
   "name": "python3"
  },
  "language_info": {
   "codemirror_mode": {
    "name": "ipython",
    "version": 3
   },
   "file_extension": ".py",
   "mimetype": "text/x-python",
   "name": "python",
   "nbconvert_exporter": "python",
   "pygments_lexer": "ipython3",
   "version": "3.9.12"
  }
 },
 "nbformat": 4,
 "nbformat_minor": 5
}
