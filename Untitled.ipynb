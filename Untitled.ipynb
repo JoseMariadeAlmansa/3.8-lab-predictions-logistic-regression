{
 "cells": [
  {
   "cell_type": "markdown",
   "id": "6bf1d954",
   "metadata": {},
   "source": [
    "![logo_ironhack_blue 7](https://user-images.githubusercontent.com/23629340/40541063-a07a0a8a-601a-11e8-91b5-2f13e4e6b441.png)\n",
    "\n",
    "# Lab | Making predictions with logistic regression\n",
    "\n",
    "In this lab, you will be using the [Sakila](https://dev.mysql.com/doc/sakila/en/) database of movie rentals.\n",
    "\n",
    "In order to optimize our inventory, we would like to know which films will be rented next month and we are asked to create a model to predict it.\n",
    "\n"
   ]
  },
  {
   "cell_type": "markdown",
   "id": "9e911579",
   "metadata": {},
   "source": [
    "\n",
    "1. Create a query or queries to extract the information you think may be relevant for building the prediction model. It should include some film features and some rental features. Use the data from 2005."
   ]
  },
  {
   "cell_type": "code",
   "execution_count": 1,
   "id": "aa2fb12f",
   "metadata": {},
   "outputs": [
    {
     "name": "stdout",
     "output_type": "stream",
     "text": [
      "········\n"
     ]
    }
   ],
   "source": [
    "# prep: import modules and get pwd\n",
    "import pymysql\n",
    "from sqlalchemy import create_engine\n",
    "import pandas as pd\n",
    "import getpass  # To get the password without showing the input\n",
    "password = getpass.getpass()"
   ]
  },
  {
   "cell_type": "code",
   "execution_count": 6,
   "id": "e54b4c27",
   "metadata": {},
   "outputs": [
    {
     "data": {
      "text/html": [
       "<div>\n",
       "<style scoped>\n",
       "    .dataframe tbody tr th:only-of-type {\n",
       "        vertical-align: middle;\n",
       "    }\n",
       "\n",
       "    .dataframe tbody tr th {\n",
       "        vertical-align: top;\n",
       "    }\n",
       "\n",
       "    .dataframe thead th {\n",
       "        text-align: right;\n",
       "    }\n",
       "</style>\n",
       "<table border=\"1\" class=\"dataframe\">\n",
       "  <thead>\n",
       "    <tr style=\"text-align: right;\">\n",
       "      <th></th>\n",
       "      <th>film_id</th>\n",
       "      <th>rental_rate</th>\n",
       "      <th>special_features</th>\n",
       "      <th>rating</th>\n",
       "      <th>category_id</th>\n",
       "      <th>actor_id</th>\n",
       "    </tr>\n",
       "  </thead>\n",
       "  <tbody>\n",
       "    <tr>\n",
       "      <th>0</th>\n",
       "      <td>80</td>\n",
       "      <td>2.99</td>\n",
       "      <td>Trailers</td>\n",
       "      <td>G</td>\n",
       "      <td>8</td>\n",
       "      <td>16.0</td>\n",
       "    </tr>\n",
       "    <tr>\n",
       "      <th>1</th>\n",
       "      <td>333</td>\n",
       "      <td>2.99</td>\n",
       "      <td>Trailers,Behind the Scenes</td>\n",
       "      <td>R</td>\n",
       "      <td>12</td>\n",
       "      <td>42.0</td>\n",
       "    </tr>\n",
       "    <tr>\n",
       "      <th>2</th>\n",
       "      <td>373</td>\n",
       "      <td>2.99</td>\n",
       "      <td>Trailers,Behind the Scenes</td>\n",
       "      <td>G</td>\n",
       "      <td>3</td>\n",
       "      <td>139.0</td>\n",
       "    </tr>\n",
       "    <tr>\n",
       "      <th>3</th>\n",
       "      <td>535</td>\n",
       "      <td>0.99</td>\n",
       "      <td>Trailers,Behind the Scenes</td>\n",
       "      <td>R</td>\n",
       "      <td>11</td>\n",
       "      <td>5.0</td>\n",
       "    </tr>\n",
       "    <tr>\n",
       "      <th>4</th>\n",
       "      <td>450</td>\n",
       "      <td>2.99</td>\n",
       "      <td>Trailers</td>\n",
       "      <td>NC-17</td>\n",
       "      <td>3</td>\n",
       "      <td>38.0</td>\n",
       "    </tr>\n",
       "  </tbody>\n",
       "</table>\n",
       "</div>"
      ],
      "text/plain": [
       "   film_id  rental_rate            special_features rating  category_id  \\\n",
       "0       80         2.99                    Trailers      G            8   \n",
       "1      333         2.99  Trailers,Behind the Scenes      R           12   \n",
       "2      373         2.99  Trailers,Behind the Scenes      G            3   \n",
       "3      535         0.99  Trailers,Behind the Scenes      R           11   \n",
       "4      450         2.99                    Trailers  NC-17            3   \n",
       "\n",
       "   actor_id  \n",
       "0      16.0  \n",
       "1      42.0  \n",
       "2     139.0  \n",
       "3       5.0  \n",
       "4      38.0  "
      ]
     },
     "execution_count": 6,
     "metadata": {},
     "output_type": "execute_result"
    }
   ],
   "source": [
    "# get the data\n",
    "connection_string = 'mysql+pymysql://root:' + password + '@localhost/sakila'\n",
    "engine = create_engine(connection_string)\n",
    "query = '''select f.film_id, f.rental_rate, f.special_features, f.rating, fc.category_id, fa.actor_id\n",
    "FROM sakila.rental \n",
    "LEFT JOIN sakila.inventory i USING (inventory_id)\n",
    "LEFT JOIN sakila.film f USING (film_id)\n",
    "LEFT JOIN sakila.film_actor fa USING (film_id)\n",
    "LEFT JOIN sakila.film_category fc USING (film_id)\n",
    "WHERE rental_date BETWEEN '2005-01-01 00:00:00' AND '2005-12-31 23:23:59'\n",
    "GROUP BY f.film_id;'''\n",
    "\n",
    "data = pd.read_sql_query(query, engine)\n",
    "data.head()"
   ]
  },
  {
   "cell_type": "markdown",
   "id": "668260fc",
   "metadata": {},
   "source": [
    "2. Create a query to get the list of films and a boolean indicating if it was rented last month (August 2005). This would be our target variable.\n"
   ]
  },
  {
   "cell_type": "code",
   "execution_count": null,
   "id": "d946f8fd",
   "metadata": {},
   "outputs": [],
   "source": []
  },
  {
   "cell_type": "markdown",
   "id": "c11ba694",
   "metadata": {},
   "source": [
    "3. Read the data into a Pandas dataframe.\n"
   ]
  },
  {
   "cell_type": "code",
   "execution_count": null,
   "id": "0b62f0c0",
   "metadata": {},
   "outputs": [],
   "source": []
  },
  {
   "cell_type": "markdown",
   "id": "a3583a87",
   "metadata": {},
   "source": [
    "4. Analyze extracted features and transform them. You may need to encode some categorical variables, or scale numerical variables.\n"
   ]
  },
  {
   "cell_type": "code",
   "execution_count": null,
   "id": "4e7a85f4",
   "metadata": {},
   "outputs": [],
   "source": []
  },
  {
   "cell_type": "markdown",
   "id": "f52b98fd",
   "metadata": {},
   "source": [
    "5. Create a logistic regression model to predict this variable from the cleaned data.\n"
   ]
  },
  {
   "cell_type": "code",
   "execution_count": null,
   "id": "1127da3d",
   "metadata": {},
   "outputs": [],
   "source": []
  },
  {
   "cell_type": "markdown",
   "id": "d7962172",
   "metadata": {},
   "source": [
    "6. Evaluate the results."
   ]
  },
  {
   "cell_type": "code",
   "execution_count": null,
   "id": "8762660d",
   "metadata": {},
   "outputs": [],
   "source": []
  },
  {
   "cell_type": "code",
   "execution_count": null,
   "id": "8a485a4c",
   "metadata": {},
   "outputs": [],
   "source": []
  },
  {
   "cell_type": "code",
   "execution_count": null,
   "id": "0b39f363",
   "metadata": {},
   "outputs": [],
   "source": []
  },
  {
   "cell_type": "code",
   "execution_count": null,
   "id": "eec52bf4",
   "metadata": {},
   "outputs": [],
   "source": []
  }
 ],
 "metadata": {
  "kernelspec": {
   "display_name": "Python 3 (ipykernel)",
   "language": "python",
   "name": "python3"
  },
  "language_info": {
   "codemirror_mode": {
    "name": "ipython",
    "version": 3
   },
   "file_extension": ".py",
   "mimetype": "text/x-python",
   "name": "python",
   "nbconvert_exporter": "python",
   "pygments_lexer": "ipython3",
   "version": "3.9.12"
  }
 },
 "nbformat": 4,
 "nbformat_minor": 5
}
